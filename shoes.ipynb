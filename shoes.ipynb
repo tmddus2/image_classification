{
  "nbformat": 4,
  "nbformat_minor": 0,
  "metadata": {
    "colab": {
      "name": "shoes.ipynb",
      "provenance": [],
      "collapsed_sections": []
    },
    "kernelspec": {
      "name": "python3",
      "display_name": "Python 3"
    }
  },
  "cells": [
    {
      "cell_type": "code",
      "metadata": {
        "colab": {
          "base_uri": "https://localhost:8080/",
          "height": 527
        },
        "id": "lnj_FhZzamnH",
        "outputId": "02c671b6-c86d-4671-87c6-f4f631c7bd0d"
      },
      "source": [
        "#hide\r\n",
        "!pip install -Uqq fastbook\r\n",
        "import fastbook\r\n",
        "fastbook.setup_book()\r\n",
        "import os\r\n",
        "os.mkdir('images')\r\n",
        "from fastbook import *\r\n",
        "\r\n",
        "from fastai.vision.all import *\r\n",
        "from fastai.vision.widgets import *"
      ],
      "execution_count": 3,
      "outputs": [
        {
          "output_type": "error",
          "ename": "ModuleNotFoundError",
          "evalue": "ignored",
          "traceback": [
            "\u001b[0;31m---------------------------------------------------------------------------\u001b[0m",
            "\u001b[0;31mModuleNotFoundError\u001b[0m                       Traceback (most recent call last)",
            "\u001b[0;32m<ipython-input-3-088962b9f54e>\u001b[0m in \u001b[0;36m<module>\u001b[0;34m()\u001b[0m\n\u001b[1;32m      1\u001b[0m \u001b[0;31m#hide\u001b[0m\u001b[0;34m\u001b[0m\u001b[0;34m\u001b[0m\u001b[0;34m\u001b[0m\u001b[0m\n\u001b[1;32m      2\u001b[0m \u001b[0mget_ipython\u001b[0m\u001b[0;34m(\u001b[0m\u001b[0;34m)\u001b[0m\u001b[0;34m.\u001b[0m\u001b[0msystem\u001b[0m\u001b[0;34m(\u001b[0m\u001b[0;34m'pip install -Uqq fastbook'\u001b[0m\u001b[0;34m)\u001b[0m\u001b[0;34m\u001b[0m\u001b[0;34m\u001b[0m\u001b[0m\n\u001b[0;32m----> 3\u001b[0;31m \u001b[0;32mimport\u001b[0m \u001b[0mfastbook\u001b[0m\u001b[0;34m\u001b[0m\u001b[0;34m\u001b[0m\u001b[0m\n\u001b[0m\u001b[1;32m      4\u001b[0m \u001b[0mfastbook\u001b[0m\u001b[0;34m.\u001b[0m\u001b[0msetup_book\u001b[0m\u001b[0;34m(\u001b[0m\u001b[0;34m)\u001b[0m\u001b[0;34m\u001b[0m\u001b[0;34m\u001b[0m\u001b[0m\n\u001b[1;32m      5\u001b[0m \u001b[0;32mimport\u001b[0m \u001b[0mos\u001b[0m\u001b[0;34m\u001b[0m\u001b[0;34m\u001b[0m\u001b[0m\n",
            "\u001b[0;32m/usr/local/lib/python3.6/dist-packages/fastbook/__init__.py\u001b[0m in \u001b[0;36m<module>\u001b[0;34m()\u001b[0m\n\u001b[1;32m      1\u001b[0m \u001b[0m__version__\u001b[0m \u001b[0;34m=\u001b[0m \u001b[0;34m\"0.0.16\"\u001b[0m\u001b[0;34m\u001b[0m\u001b[0;34m\u001b[0m\u001b[0m\n\u001b[1;32m      2\u001b[0m \u001b[0;32mimport\u001b[0m \u001b[0mmatplotlib\u001b[0m \u001b[0;32mas\u001b[0m \u001b[0mmpl\u001b[0m\u001b[0;34m,\u001b[0m \u001b[0mpkgutil\u001b[0m\u001b[0;34m,\u001b[0m \u001b[0mrequests\u001b[0m\u001b[0;34m,\u001b[0m \u001b[0mtime\u001b[0m\u001b[0;34m\u001b[0m\u001b[0;34m\u001b[0m\u001b[0m\n\u001b[0;32m----> 3\u001b[0;31m \u001b[0;32mfrom\u001b[0m \u001b[0mfastai\u001b[0m\u001b[0;34m.\u001b[0m\u001b[0mvision\u001b[0m\u001b[0;34m.\u001b[0m\u001b[0mall\u001b[0m \u001b[0;32mimport\u001b[0m \u001b[0;34m*\u001b[0m\u001b[0;34m\u001b[0m\u001b[0;34m\u001b[0m\u001b[0m\n\u001b[0m\u001b[1;32m      4\u001b[0m \u001b[0;32mfrom\u001b[0m \u001b[0mpandas\u001b[0m\u001b[0;34m.\u001b[0m\u001b[0mapi\u001b[0m\u001b[0;34m.\u001b[0m\u001b[0mtypes\u001b[0m \u001b[0;32mimport\u001b[0m \u001b[0mCategoricalDtype\u001b[0m\u001b[0;34m\u001b[0m\u001b[0;34m\u001b[0m\u001b[0m\n\u001b[1;32m      5\u001b[0m \u001b[0;32mfrom\u001b[0m \u001b[0mscipy\u001b[0m\u001b[0;34m.\u001b[0m\u001b[0mcluster\u001b[0m \u001b[0;32mimport\u001b[0m \u001b[0mhierarchy\u001b[0m \u001b[0;32mas\u001b[0m \u001b[0mhc\u001b[0m\u001b[0;34m\u001b[0m\u001b[0;34m\u001b[0m\u001b[0m\n",
            "\u001b[0;32m/usr/local/lib/python3.6/dist-packages/fastai/vision/all.py\u001b[0m in \u001b[0;36m<module>\u001b[0;34m()\u001b[0m\n\u001b[1;32m      1\u001b[0m \u001b[0;32mfrom\u001b[0m \u001b[0;34m.\u001b[0m \u001b[0;32mimport\u001b[0m \u001b[0mmodels\u001b[0m\u001b[0;34m\u001b[0m\u001b[0;34m\u001b[0m\u001b[0m\n\u001b[1;32m      2\u001b[0m \u001b[0;32mfrom\u001b[0m \u001b[0;34m.\u001b[0m\u001b[0;34m.\u001b[0m\u001b[0mbasics\u001b[0m \u001b[0;32mimport\u001b[0m \u001b[0;34m*\u001b[0m\u001b[0;34m\u001b[0m\u001b[0;34m\u001b[0m\u001b[0m\n\u001b[0;32m----> 3\u001b[0;31m \u001b[0;32mfrom\u001b[0m \u001b[0;34m.\u001b[0m\u001b[0;34m.\u001b[0m\u001b[0mcallback\u001b[0m\u001b[0;34m.\u001b[0m\u001b[0mall\u001b[0m \u001b[0;32mimport\u001b[0m \u001b[0;34m*\u001b[0m\u001b[0;34m\u001b[0m\u001b[0;34m\u001b[0m\u001b[0m\n\u001b[0m\u001b[1;32m      4\u001b[0m \u001b[0;32mfrom\u001b[0m \u001b[0;34m.\u001b[0m\u001b[0maugment\u001b[0m \u001b[0;32mimport\u001b[0m \u001b[0;34m*\u001b[0m\u001b[0;34m\u001b[0m\u001b[0;34m\u001b[0m\u001b[0m\n\u001b[1;32m      5\u001b[0m \u001b[0;32mfrom\u001b[0m \u001b[0;34m.\u001b[0m\u001b[0mcore\u001b[0m \u001b[0;32mimport\u001b[0m \u001b[0;34m*\u001b[0m\u001b[0;34m\u001b[0m\u001b[0;34m\u001b[0m\u001b[0m\n",
            "\u001b[0;31mModuleNotFoundError\u001b[0m: No module named 'fastai.callback.all'; 'fastai.callback' is not a package",
            "",
            "\u001b[0;31m---------------------------------------------------------------------------\u001b[0;32m\nNOTE: If your import is failing due to a missing package, you can\nmanually install dependencies using either !pip or !apt.\n\nTo view examples of installing some common dependencies, click the\n\"Open Examples\" button below.\n\u001b[0;31m---------------------------------------------------------------------------\u001b[0m\n"
          ]
        }
      ]
    },
    {
      "cell_type": "code",
      "metadata": {
        "id": "fsmjXEAQglCD"
      },
      "source": [
        "key = os.environ.get('AZURE_SEARCH_KEY', '4becca12d23f4739b3d0155eee322bbc')\r\n",
        "\r\n",
        "results = search_images_bing(key, 'nike shoes')\r\n",
        "ims = results.attrgot('content_url')\r\n",
        "len(ims)\r\n",
        "\r\n",
        "ims = ['https://static.nike.com/a/images/t_PDP_1280_v1/f_auto,q_auto:eco/c6081451-e5e6-44a2-a4f4-21558717782f/classic-cortez-shoe-z2JGFJ.jpg']\r\n",
        "\r\n",
        "dest = 'images/nike.jpg'\r\n",
        "download_url(ims[0], dest)\r\n",
        "\r\n",
        "im = Image.open(dest)\r\n",
        "im.to_thumb(128,128)\r\n",
        "\r\n",
        "shoes_types = 'nike','reebok','adidas'\r\n",
        "path = Path('bears')\r\n",
        "\r\n",
        "if not path.exists():\r\n",
        "    path.mkdir()\r\n",
        "    for o in shoes_types:\r\n",
        "        dest = (path/o)\r\n",
        "        dest.mkdir(exist_ok=True)\r\n",
        "        results = search_images_bing(key, f'{o} shoes')\r\n",
        "        download_images(dest, urls=results.attrgot('contentUrl'))\r\n",
        "        \r\n",
        "fns = get_image_files(path)\r\n",
        "fns\r\n",
        "failed = verify_images(fns)\r\n",
        "failed.map(Path.unlink);\r\n",
        "\r\n",
        "shoes = DataBlock(\r\n",
        "    blocks=(ImageBlock, CategoryBlock), \r\n",
        "    get_items=get_image_files, \r\n",
        "    splitter=RandomSplitter(valid_pct=0.2, seed=42),\r\n",
        "    get_y=parent_label,\r\n",
        "    item_tfms=Resize(128))\r\n",
        "\r\n",
        "dls = shoes.dataloaders(path)\r\n",
        "dls.valid.show_batch(max_n=4, nrows=1)\r\n",
        "\r\n",
        "shoes = shoes.new(item_tfms=Resize(128, ResizeMethod.Squish))\r\n",
        "dls = shoes.dataloaders(path)\r\n",
        "dls.valid.show_batch(max_n=4, nrows=1)\r\n",
        "\r\n",
        "shoes = shoes.new(item_tfms=Resize(128, ResizeMethod.Pad, pad_mode='zeros'))\r\n",
        "dls = shoes.dataloaders(path)\r\n",
        "dls.valid.show_batch(max_n=4, nrows=1)\r\n",
        "\r\n",
        "shoes = shoes.new(item_tfms=RandomResizedCrop(128, min_scale=0.3))\r\n",
        "dls = shoes.dataloaders(path)\r\n",
        "dls.train.show_batch(max_n=4, nrows=1, unique=True)\r\n",
        "\r\n",
        "shoes = shoes.new(item_tfms=Resize(128), batch_tfms=aug_transforms(mult=2))\r\n",
        "dls = shoes.dataloaders(path)\r\n",
        "dls.train.show_batch(max_n=8, nrows=2, unique=True)\r\n",
        "\r\n",
        "shoes = shoes.new(\r\n",
        "    item_tfms=RandomResizedCrop(224, min_scale=0.5),\r\n",
        "    batch_tfms=aug_transforms())\r\n",
        "dls = shoes.dataloaders(path)\r\n",
        "\r\n",
        "learn = cnn_learner(dls, resnet18, metrics=error_rate)\r\n",
        "learn.fine_tune(4)\r\n",
        "\r\n",
        "interp = ClassificationInterpretation.from_learner(learn)\r\n",
        "interp.plot_confusion_matrix()\r\n",
        "\r\n",
        "interp.plot_top_losses(5, nrows=1)\r\n",
        "\r\n",
        "cleaner = ImageClassifierCleaner(learn)\r\n",
        "cleaner"
      ],
      "execution_count": null,
      "outputs": []
    },
    {
      "cell_type": "code",
      "metadata": {
        "id": "9lqN3FbicU6p"
      },
      "source": [
        "path = Path()\r\n",
        "learn_inf = load_learner(path/'export.pkl')\r\n",
        "btn_upload = widgets.FileUpload()\r\n",
        "out_pl = widgets.Output()\r\n",
        "lbl_pred = widgets.Label()\r\n",
        "btn_run = widgets.Button(description='Classify')"
      ],
      "execution_count": null,
      "outputs": []
    },
    {
      "cell_type": "code",
      "metadata": {
        "id": "pNIjfeOyeR9W"
      },
      "source": [
        "def on_click_classify(change):\r\n",
        "    img = PILImage.create(btn_upload.data[-1])\r\n",
        "    out_pl.clear_output()\r\n",
        "    with out_pl: display(img.to_thumb(128,128))\r\n",
        "    pred,pred_idx,probs = learn_inf.predict(img)\r\n",
        "    lbl_pred.value = f'Prediction: {pred}; Probability: {probs[pred_idx]:.04f}'\r\n"
      ],
      "execution_count": null,
      "outputs": []
    },
    {
      "cell_type": "code",
      "metadata": {
        "id": "mE2TlnEePEsP"
      },
      "source": [
        "btn_run.on_click(on_click_classify)"
      ],
      "execution_count": null,
      "outputs": []
    },
    {
      "cell_type": "code",
      "metadata": {
        "id": "2GzWwDRue8f3"
      },
      "source": [
        "VBox([widgets.Label('Select shoes!'), btn_upload, btn_run, out_pl, lbl_pred])"
      ],
      "execution_count": null,
      "outputs": []
    }
  ]
}